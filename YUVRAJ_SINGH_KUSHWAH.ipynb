{
  "nbformat": 4,
  "nbformat_minor": 0,
  "metadata": {
    "colab": {
      "name": "YUVRAJ SINGH KUSHWAH.ipynb",
      "provenance": [],
      "collapsed_sections": []
    },
    "kernelspec": {
      "name": "python3",
      "display_name": "Python 3"
    },
    "language_info": {
      "name": "python"
    }
  },
  "cells": [
    {
      "cell_type": "markdown",
      "metadata": {
        "id": "_kA0DSLvcypA"
      },
      "source": [
        "Deep Neural Network\n",
        "\n"
      ]
    },
    {
      "cell_type": "code",
      "metadata": {
        "id": "T96173Uac3q4",
        "colab": {
          "base_uri": "https://localhost:8080/"
        },
        "outputId": "aa00ec0a-b3ea-4236-bb9f-6e8e7066e71b"
      },
      "source": [
        "## IMPORTING DATASET\n",
        "from keras.datasets import mnist\n",
        "\n",
        "data = mnist.load_data()\n"
      ],
      "execution_count": 3,
      "outputs": [
        {
          "output_type": "stream",
          "text": [
            "Downloading data from https://storage.googleapis.com/tensorflow/tf-keras-datasets/mnist.npz\n",
            "11493376/11490434 [==============================] - 0s 0us/step\n"
          ],
          "name": "stdout"
        }
      ]
    },
    {
      "cell_type": "markdown",
      "metadata": {
        "id": "Dkgp9SoRiJWf"
      },
      "source": [
        "Define Traing and Testing Data\n"
      ]
    },
    {
      "cell_type": "code",
      "metadata": {
        "id": "2h-jmQPciRyX"
      },
      "source": [
        "((X_train, y_train), (X_test, y_test)) = data"
      ],
      "execution_count": 10,
      "outputs": []
    },
    {
      "cell_type": "code",
      "metadata": {
        "id": "AWX7OWPzi5P5"
      },
      "source": [
        "import matplotlib.pyplot as plt\n"
      ],
      "execution_count": 6,
      "outputs": []
    },
    {
      "cell_type": "code",
      "metadata": {
        "id": "mMBolCwVj-If",
        "colab": {
          "base_uri": "https://localhost:8080/"
        },
        "outputId": "95c946ca-1ab8-494b-9942-35ea9738de0e"
      },
      "source": [
        "# Shape of Training data\n",
        "X_train[0].shape"
      ],
      "execution_count": 7,
      "outputs": [
        {
          "output_type": "execute_result",
          "data": {
            "text/plain": [
              "(28, 28)"
            ]
          },
          "metadata": {
            "tags": []
          },
          "execution_count": 7
        }
      ]
    },
    {
      "cell_type": "code",
      "metadata": {
        "id": "gRqfV6HSj-e_"
      },
      "source": [
        "# Reshape the Training data\n",
        "X_train = X_train.reshape ((X_train.shape[0], 28*28)).astype('float32')\n",
        "X_test = X_test.reshape ((X_test.shape[0], 28*28)).astype('float32')\n"
      ],
      "execution_count": 12,
      "outputs": []
    },
    {
      "cell_type": "code",
      "metadata": {
        "id": "_6hA3NavongG"
      },
      "source": [
        "# Normalizing values from 0-255 to 0-1\n",
        "X_train = X_train / 255\n",
        "X_test = X_test / 255 \n"
      ],
      "execution_count": null,
      "outputs": []
    },
    {
      "cell_type": "code",
      "metadata": {
        "colab": {
          "base_uri": "https://localhost:8080/"
        },
        "id": "jVr2zxrupvE7",
        "outputId": "add89565-2eba-4dbc-f0ce-d31a2e5955d9"
      },
      "source": [
        "from keras.utils import np_utils\n",
        "\n",
        "print(y_test.shape) \n",
        "\n",
        "y_train = np_utils.to_categorical(y_train)\n",
        "y_test = np_utils.to_categorical(y_test)\n",
        "\n",
        "num_classes = y_test.shape[1]\n",
        "print(y_test.shape)\n"
      ],
      "execution_count": 13,
      "outputs": [
        {
          "output_type": "stream",
          "text": [
            "(10000,)\n",
            "(10000, 10)\n"
          ],
          "name": "stdout"
        }
      ]
    },
    {
      "cell_type": "code",
      "metadata": {
        "id": "Z7Uzd47nTRxC"
      },
      "source": [
        "from keras.models import Sequential\n",
        "from keras.layers import Dense"
      ],
      "execution_count": 14,
      "outputs": []
    },
    {
      "cell_type": "code",
      "metadata": {
        "id": "50VFPaYBTSE4"
      },
      "source": [
        "# Define Model\n",
        "model = Sequential()\n",
        "\n",
        "# Add First Hidden Layer\n",
        "model.add(Dense(32, input_dim = 28*28, activation='relu'))\n",
        "\n",
        "# Add Second Hidden Layer\n",
        "model.add(Dense(64, activation='relu'))\n",
        "\n",
        "# Add output layer having 10 neurons(since there are 10 classes / categories in)\n",
        "model.add(Dense(10, activation='softmax'))\n",
        "\n",
        "\n"
      ],
      "execution_count": 16,
      "outputs": []
    },
    {
      "cell_type": "code",
      "metadata": {
        "id": "btrC1GprWbMy"
      },
      "source": [
        "# Compile Model\n",
        "model.compile(loss='categorical_crossentropy', optimizerr='adam', metrics=['accuracy'])\n"
      ],
      "execution_count": null,
      "outputs": []
    },
    {
      "cell_type": "code",
      "metadata": {
        "id": "xLPSijlQXVwy"
      },
      "source": [
        "# Print Model summary\n",
        "model.summary()\n"
      ],
      "execution_count": null,
      "outputs": []
    },
    {
      "cell_type": "code",
      "metadata": {
        "id": "QAb8QKNUXt1V"
      },
      "source": [
        "# Train Model\n",
        "model.fix(X_train, y_train, epochs=10, batch_size=100)\n"
      ],
      "execution_count": null,
      "outputs": []
    },
    {
      "cell_type": "code",
      "metadata": {
        "id": "alI6RvXWYfYr"
      },
      "source": [
        "scores = model.evaluate(X_test, y_test)\n",
        "print(scores)  ## returns loss and accuracy "
      ],
      "execution_count": null,
      "outputs": []
    }
  ]
}